{
 "cells": [
  {
   "cell_type": "code",
   "execution_count": 66,
   "metadata": {},
   "outputs": [
    {
     "name": "stdout",
     "output_type": "stream",
     "text": [
      "Laksa King Prawn Noodles 16\n",
      "Pancakes 15\n",
      "Tandoori chicken 24\n",
      "latest 3 recipes found\n"
     ]
    },
    {
     "data": {
      "text/plain": [
       "<pymongo.cursor.Cursor at 0x8e7f3f0>"
      ]
     },
     "execution_count": 66,
     "metadata": {},
     "output_type": "execute_result"
    }
   ],
   "source": [
    "import os\n",
    "import pymongo\n",
    "from flask import Flask, render_template, request, flash, redirect, url_for, session, json, jsonify\n",
    "from flask_pymongo import PyMongo\n",
    "from bson.objectid import ObjectId\n",
    "\n",
    "DBS_NAME = os.getenv(\"DBS_NAME\")\n",
    "MONGO_URI = os.getenv(\"MONGODB_URI\")\n",
    "\n",
    "app = Flask(__name__)\n",
    "app.secret_key = 'The cat is on the roof'\n",
    "\n",
    "app.config[\"DBS_NAME\"] = \"cookbook\"\n",
    "app.config[\"MONGO_URI\"] = \"mongodb://localhost:27017/cookbook\"\n",
    "\n",
    "\n",
    "mongo = PyMongo(app)\n",
    "\n",
    "def get_recipes(current_user_id):\n",
    "    rows={}\n",
    "    try:\n",
    "        rows = mongo.db.recipes.find({\"author\" : current_user_id}) \n",
    "#         rows = mongo.db.recipes.find_one({\"name\" : \"Chicken chasseur\"})\n",
    "    except Exception as e:\n",
    "        print(\"error accessing DB %s\"%str(e))\n",
    "    \n",
    "    if rows:\n",
    "        print(\"rows do exist\")\n",
    "    return rows\n",
    "\n",
    "\n",
    "def get_current_user_recipes(): \n",
    "    current_user_recipes = get_recipes(\"5b99785380ae4c2a3c392e8b\")\n",
    "    print(type(current_user_recipes))\n",
    "    for row in current_user_recipes:\n",
    "        print(row)\n",
    "        print(row['name'])\n",
    "    return\n",
    "\n",
    "def get_recent():\n",
    "    rows = {}\n",
    "    try:\n",
    "        # Query recipes collection and return ordered by votes descending\n",
    "        rows = mongo.db.recipes.find().sort([['_id', -1],['votes', pymongo.DESCENDING]]).limit(3)\n",
    "                                      \n",
    "                                       \n",
    "                        \n",
    "                                      \n",
    "                                       \n",
    "    except Exception as e:\n",
    "        print(\"error accessing DB %s\" % str(e))\n",
    "\n",
    "    if rows:\n",
    "        for r in rows:\n",
    "            print(r['name'], r['votes'])\n",
    "        print(\"latest 3 recipes found\")\n",
    "    return rows \n",
    "\n",
    "# get_current_user_recipes()\n",
    "get_recent()"
   ]
  },
  {
   "cell_type": "code",
   "execution_count": null,
   "metadata": {},
   "outputs": [],
   "source": []
  },
  {
   "cell_type": "code",
   "execution_count": null,
   "metadata": {},
   "outputs": [],
   "source": []
  },
  {
   "cell_type": "code",
   "execution_count": null,
   "metadata": {},
   "outputs": [],
   "source": []
  },
  {
   "cell_type": "code",
   "execution_count": null,
   "metadata": {},
   "outputs": [],
   "source": []
  }
 ],
 "metadata": {
  "kernelspec": {
   "display_name": "Python 3",
   "language": "python",
   "name": "python3"
  },
  "language_info": {
   "codemirror_mode": {
    "name": "ipython",
    "version": 3
   },
   "file_extension": ".py",
   "mimetype": "text/x-python",
   "name": "python",
   "nbconvert_exporter": "python",
   "pygments_lexer": "ipython3",
   "version": "3.7.0"
  }
 },
 "nbformat": 4,
 "nbformat_minor": 2
}
