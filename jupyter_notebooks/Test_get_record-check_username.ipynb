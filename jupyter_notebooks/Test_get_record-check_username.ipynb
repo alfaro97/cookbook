{
 "cells": [
  {
   "cell_type": "code",
   "execution_count": 2,
   "metadata": {},
   "outputs": [
    {
     "data": {
      "text/plain": [
       "'Failure name take'"
      ]
     },
     "execution_count": 2,
     "metadata": {},
     "output_type": "execute_result"
    }
   ],
   "source": [
    "import os\n",
    "from flask import Flask, render_template, request, flash, redirect, url_for, session\n",
    "from flask_pymongo import PyMongo\n",
    "\n",
    "DBS_NAME = os.getenv(\"DBS_NAME\")\n",
    "MONGO_URI = os.getenv(\"MONGODB_URI\")\n",
    "\n",
    "app = Flask(__name__)\n",
    "app.secret_key = 'The cat is on the roof'\n",
    "\n",
    "app.config[\"DBS_NAME\"] = \"cookbook\"\n",
    "app.config[\"MONGO_URI\"] = \"mongodb://localhost:27017/cookbook\"\n",
    "\n",
    "mongo = PyMongo(app)\n",
    "\n",
    "def get_record(username):\n",
    "    row={}\n",
    "    try:\n",
    "        row = mongo.db.users.find_one({'username': username.lower()})\n",
    "    except Exception as e:\n",
    "        print(\"error accessing DB %s\"%str(e))\n",
    "    return row\n",
    "\n",
    "def signup_user(username):\n",
    "    check_user = get_record(username)\n",
    "    if not check_user:\n",
    "        users=mongo.db.users\n",
    "        new_user={\n",
    "                'username': username,\n",
    "                'password': \"123\",\n",
    "                'firstname': \"h\",\n",
    "                'lastname': \"q\"}\n",
    "        #pdb.set_trace()          \n",
    "        if new_user:\n",
    "            users.insert_one(new_user)\n",
    "            message = \"Success\"\n",
    "            return message\n",
    "    else:\n",
    "        message = \"Failure name take\"\n",
    "        return message\n",
    "    return\n",
    "\n",
    "signup_user(\"joe\")"
   ]
  },
  {
   "cell_type": "code",
   "execution_count": null,
   "metadata": {},
   "outputs": [],
   "source": []
  },
  {
   "cell_type": "code",
   "execution_count": null,
   "metadata": {},
   "outputs": [],
   "source": []
  }
 ],
 "metadata": {
  "kernelspec": {
   "display_name": "Python 3",
   "language": "python",
   "name": "python3"
  },
  "language_info": {
   "codemirror_mode": {
    "name": "ipython",
    "version": 3
   },
   "file_extension": ".py",
   "mimetype": "text/x-python",
   "name": "python",
   "nbconvert_exporter": "python",
   "pygments_lexer": "ipython3",
   "version": "3.7.0"
  }
 },
 "nbformat": 4,
 "nbformat_minor": 2
}
