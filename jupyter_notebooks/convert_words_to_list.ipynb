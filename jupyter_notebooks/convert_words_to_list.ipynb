{
 "cells": [
  {
   "cell_type": "code",
   "execution_count": 5,
   "metadata": {
    "scrolled": true
   },
   "outputs": [
    {
     "data": {
      "text/plain": [
       "['Gluten',\n",
       " 'Eggs',\n",
       " 'Fish',\n",
       " 'Peanuts',\n",
       " 'Soybeans',\n",
       " 'Milk',\n",
       " 'Tree',\n",
       " 'nuts',\n",
       " 'Celery',\n",
       " 'Mustard',\n",
       " 'Sulphites',\n",
       " 'Lupin',\n",
       " 'Molluscs',\n",
       " 'Crustaceans',\n",
       " 'Sesame',\n",
       " 'seeds']"
      ]
     },
     "execution_count": 5,
     "metadata": {},
     "output_type": "execute_result"
    }
   ],
   "source": [
    "# convert a list of words to a python list for addition to mongodb\n",
    "import re\n",
    "cat = \"Breakfast Lunch Dinner Snacks Appetisers Soups Salads Rice Noodles Pasta Pies Chicken Turkey Duck Poultry Pork Lamb Beef Meat Seafood Stir-Fry Sauces Vegetarian Desserts Baking Drinks Vegan Gluten Free\"\n",
    "cuis = \"African American Asian Australian Brazilian British Cajun Chinese Creole Danish European French Greek Hungarian Indian Indonesian Irish Italian Jamaican Japanese Korean Lebanese Malaysian Mediterranean Mexican Middle Eastern Norwegian Portuguese Russian Scandinavian Singaporean Spanish Sri Lankan Swedish Thai Turkish Vietnamese\"\n",
    "allergen = \"Gluten Eggs Fish Peanuts Soybeans Milk Tree nuts Celery Mustard Sulphites Lupin Molluscs Crustaceans Sesame seeds\"\n",
    "wordList = re.sub(\"[^\\w]\", \" \",  allergen).split()\n",
    "\n",
    "wordList"
   ]
  },
  {
   "cell_type": "code",
   "execution_count": null,
   "metadata": {},
   "outputs": [],
   "source": []
  },
  {
   "cell_type": "code",
   "execution_count": null,
   "metadata": {},
   "outputs": [],
   "source": []
  },
  {
   "cell_type": "code",
   "execution_count": null,
   "metadata": {},
   "outputs": [],
   "source": []
  }
 ],
 "metadata": {
  "kernelspec": {
   "display_name": "Python 3",
   "language": "python",
   "name": "python3"
  },
  "language_info": {
   "codemirror_mode": {
    "name": "ipython",
    "version": 3
   },
   "file_extension": ".py",
   "mimetype": "text/x-python",
   "name": "python",
   "nbconvert_exporter": "python",
   "pygments_lexer": "ipython3",
   "version": "3.7.0"
  }
 },
 "nbformat": 4,
 "nbformat_minor": 2
}
