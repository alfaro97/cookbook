{
 "cells": [
  {
   "cell_type": "code",
   "execution_count": 94,
   "metadata": {},
   "outputs": [
    {
     "name": "stdout",
     "output_type": "stream",
     "text": [
      "{'_id': 'Desserts', 'total': 1}\n",
      "\n",
      "{'_id': 'Beef', 'total': 3}\n",
      "\n",
      "{'_id': 'Pork', 'total': 3}\n",
      "\n",
      "{'_id': 'Pasta', 'total': 1}\n",
      "\n",
      "{'_id': 'Lunch', 'total': 1}\n",
      "\n",
      "{'_id': 'Vegetarian', 'total': 2}\n",
      "\n",
      "{'_id': 'Chicken', 'total': 5}\n",
      "\n",
      "{'_id': 'Baking', 'total': 1}\n",
      "\n",
      "{'_id': 'Seafood', 'total': 2}\n",
      "\n",
      "{'_id': 'Indian', 'total': 2}\n",
      "{'_id': 'Canadian', 'total': 1}\n",
      "{'_id': 'Chinese', 'total': 10}\n",
      "{'_id': 'French', 'total': 3}\n",
      "{'_id': 'Russian', 'total': 1}\n",
      "{'_id': 'Italian', 'total': 2}\n"
     ]
    },
    {
     "data": {
      "text/plain": [
       "<pymongo.command_cursor.CommandCursor at 0x50b6bf0>"
      ]
     },
     "execution_count": 94,
     "metadata": {},
     "output_type": "execute_result"
    }
   ],
   "source": [
    "import os\n",
    "from flask import Flask, render_template, request, flash, redirect, url_for, session, json, jsonify\n",
    "from flask_pymongo import PyMongo\n",
    "from bson.objectid import ObjectId\n",
    "\n",
    "DBS_NAME = os.getenv(\"DBS_NAME\")\n",
    "MONGO_URI = os.getenv(\"MONGODB_URI\")\n",
    "\n",
    "app = Flask(__name__)\n",
    "app.secret_key = 'The cat is on the roof'\n",
    "\n",
    "app.config[\"DBS_NAME\"] = \"cookbook\"\n",
    "app.config[\"MONGO_URI\"] = \"mongodb://localhost:27017/cookbook\"\n",
    "\n",
    "mongo = PyMongo(app)\n",
    "\n",
    "\n",
    "def get_total_per_category():\n",
    "    by_category = mongo.db.recipes.aggregate(\n",
    "        [ \n",
    "            {\n",
    "                '$group': \n",
    "                { \n",
    "                    '_id': '$category',\n",
    "#                     'total': {'$sum': '$votes'},\n",
    "                    'total': {'$sum': 1}\n",
    "#                     'peachrec' : {'$multiply':[{'$divide':[\"votes\",\"total\"]},100]}\n",
    "                },\n",
    "            }\n",
    "        ]\n",
    "    )           \n",
    "    for v in by_category:\n",
    "        print(v)\n",
    "        print(\"\")\n",
    "    return by_category \n",
    "\n",
    "\n",
    "def get_total_per_cuisine():\n",
    "    by_cuisine = mongo.db.recipes.aggregate(\n",
    "        [ \n",
    "            {\n",
    "                '$group': \n",
    "                { \n",
    "                    '_id': '$cuisine',\n",
    "#                     'total': {'$sum': '$votes'},\n",
    "                    'total': {'$sum': 1}\n",
    "#                     'peachrec' : {'$multiply':[{'$divide':[\"votes\",\"total\"]},100]}\n",
    "                },\n",
    "            }\n",
    "        ]\n",
    "    )           \n",
    "    for v in by_cuisine:\n",
    "        print(v)        \n",
    "    return by_cuisine\n",
    "\n",
    "\n",
    "\n",
    "get_total_per_category()\n",
    "get_total_per_cuisine()"
   ]
  },
  {
   "cell_type": "code",
   "execution_count": null,
   "metadata": {},
   "outputs": [],
   "source": []
  },
  {
   "cell_type": "code",
   "execution_count": null,
   "metadata": {},
   "outputs": [],
   "source": []
  }
 ],
 "metadata": {
  "kernelspec": {
   "display_name": "Python 3",
   "language": "python",
   "name": "python3"
  },
  "language_info": {
   "codemirror_mode": {
    "name": "ipython",
    "version": 3
   },
   "file_extension": ".py",
   "mimetype": "text/x-python",
   "name": "python",
   "nbconvert_exporter": "python",
   "pygments_lexer": "ipython3",
   "version": "3.7.0"
  }
 },
 "nbformat": 4,
 "nbformat_minor": 2
}
