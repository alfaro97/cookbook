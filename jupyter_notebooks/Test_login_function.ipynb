{
 "cells": [
  {
   "cell_type": "code",
   "execution_count": 4,
   "metadata": {},
   "outputs": [
    {
     "name": "stdout",
     "output_type": "stream",
     "text": [
      "row exists\n",
      "Welcome back zed\n"
     ]
    },
    {
     "data": {
      "text/plain": [
       "'Welcome back zed'"
      ]
     },
     "execution_count": 4,
     "metadata": {},
     "output_type": "execute_result"
    }
   ],
   "source": [
    "import os\n",
    "from flask import Flask\n",
    "from flask_pymongo import PyMongo\n",
    "\n",
    "DBS_NAME = os.getenv(\"DBS_NAME\")\n",
    "MONGO_URI = os.getenv(\"MONGODB_URI\")\n",
    "\n",
    "app = Flask(__name__)\n",
    "app.secret_key = 'The cat is on the roof'\n",
    "\n",
    "app.config[\"DBS_NAME\"] = \"cookbook\"\n",
    "app.config[\"MONGO_URI\"] = \"mongodb://localhost:27017/cookbook\"\n",
    "\n",
    "mongo = PyMongo(app)\n",
    "\n",
    "\n",
    "def get_record(username):\n",
    "    row={}\n",
    "    try:\n",
    "        row = mongo.db.users.find_one({'username': username.lower()})\n",
    "    except Exception as e:\n",
    "        print(\"error accessing DB %s\"%str(e))\n",
    "    \n",
    "    if row:\n",
    "        print(\"row exists\")\n",
    "    return row\n",
    "\n",
    "def login_user(username, password):\n",
    "    pw = password\n",
    "    user = get_record(username)\n",
    "    if user and user[\"password\"] == pw:\n",
    "        message = \"Welcome back \" + user['username']\n",
    "        print(message)\n",
    "        return message        \n",
    "    elif user and user[\"password\"] != pw:\n",
    "        message = \"password wrong\"\n",
    "        print(message)\n",
    "        return message\n",
    "    elif not user:\n",
    "        message = \"no user by that name\"\n",
    "        print(message)\n",
    "        return message        \n",
    "    return\n",
    "\n",
    "login_user(\"zed\", \"123\")  # exists in db\n",
    "#login_user(\"zed\", \"234\")  # exists in db but wrong password\n",
    "#login_user(\"jack\", \"123\") # does not exist in db"
   ]
  },
  {
   "cell_type": "code",
   "execution_count": null,
   "metadata": {},
   "outputs": [],
   "source": []
  },
  {
   "cell_type": "code",
   "execution_count": null,
   "metadata": {},
   "outputs": [],
   "source": []
  }
 ],
 "metadata": {
  "kernelspec": {
   "display_name": "Python 3",
   "language": "python",
   "name": "python3"
  },
  "language_info": {
   "codemirror_mode": {
    "name": "ipython",
    "version": 3
   },
   "file_extension": ".py",
   "mimetype": "text/x-python",
   "name": "python",
   "nbconvert_exporter": "python",
   "pygments_lexer": "ipython3",
   "version": "3.7.0"
  }
 },
 "nbformat": 4,
 "nbformat_minor": 2
}
