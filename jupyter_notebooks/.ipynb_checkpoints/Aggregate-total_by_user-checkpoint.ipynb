{
 "cells": [
  {
   "cell_type": "code",
   "execution_count": 12,
   "metadata": {},
   "outputs": [
    {
     "name": "stdout",
     "output_type": "stream",
     "text": [
      "{'_id': '5ba6a175d4cff52894ef222c', 'count': 14}\n",
      "\n",
      "{'_id': '5ba6a0cfd4cff52894ef222a', 'count': 5}\n",
      "\n"
     ]
    },
    {
     "data": {
      "text/plain": [
       "<pymongo.command_cursor.CommandCursor at 0x60c3e90>"
      ]
     },
     "execution_count": 12,
     "metadata": {},
     "output_type": "execute_result"
    }
   ],
   "source": [
    "import os\n",
    "from flask import Flask, render_template, request, flash, redirect, url_for, session, json, jsonify\n",
    "from flask_pymongo import PyMongo\n",
    "from bson.objectid import ObjectId\n",
    "\n",
    "DBS_NAME = os.getenv(\"DBS_NAME\")\n",
    "MONGO_URI = os.getenv(\"MONGODB_URI\")\n",
    "\n",
    "app = Flask(__name__)\n",
    "app.secret_key = 'The cat is on the roof'\n",
    "\n",
    "app.config[\"DBS_NAME\"] = \"cookbook\"\n",
    "app.config[\"MONGO_URI\"] = \"mongodb://localhost:27017/cookbook\"\n",
    "\n",
    "mongo = PyMongo(app)\n",
    "\n",
    "\n",
    "def get_total_per_user():\n",
    "    by_user = mongo.db.recipes.aggregate(\n",
    "        [ \n",
    "            {'$group': { '_id': '$author',\n",
    "                        'count': {'$sum': 1}}},\n",
    "            {'$sort': {'count' : -1} },\n",
    "        ]\n",
    "    )           \n",
    "    for v in by_user:\n",
    "        print(v)\n",
    "        print(\"\")\n",
    "    return by_user \n",
    "\n",
    "\n",
    "get_total_per_user()\n"
   ]
  },
  {
   "cell_type": "code",
   "execution_count": null,
   "metadata": {},
   "outputs": [],
   "source": []
  }
 ],
 "metadata": {
  "kernelspec": {
   "display_name": "Python 3",
   "language": "python",
   "name": "python3"
  },
  "language_info": {
   "codemirror_mode": {
    "name": "ipython",
    "version": 3
   },
   "file_extension": ".py",
   "mimetype": "text/x-python",
   "name": "python",
   "nbconvert_exporter": "python",
   "pygments_lexer": "ipython3",
   "version": "3.7.0"
  }
 },
 "nbformat": 4,
 "nbformat_minor": 2
}
