{
 "cells": [
  {
   "cell_type": "code",
   "execution_count": 126,
   "metadata": {},
   "outputs": [
    {
     "name": "stdout",
     "output_type": "stream",
     "text": [
      "{'_id': '', 'name': 'Something Cheesys', 'votes': 13, 'totalvotes': 1250, 'percent': 1.04}\n",
      "\n",
      "{'_id': '', 'name': 'Chinon apple tarts', 'votes': 23, 'totalvotes': 1250, 'percent': 1.8399999999999999}\n",
      "\n",
      "{'_id': '', 'name': 'Chorizo Stuffed Bell Peppers', 'votes': 10, 'totalvotes': 1250, 'percent': 0.8}\n",
      "\n",
      "{'_id': '', 'name': 'Macaroni cheese with leeks', 'votes': 158, 'totalvotes': 1250, 'percent': 12.64}\n",
      "\n",
      "{'_id': '', 'name': 'Egg Drop Soup', 'votes': 5, 'totalvotes': 1250, 'percent': 0.4}\n",
      "\n",
      "{'_id': '', 'name': 'Chicken Chasseur', 'votes': 4, 'totalvotes': 1250, 'percent': 0.32}\n",
      "\n",
      "{'_id': '', 'name': 'Chicken Congee', 'votes': 67, 'totalvotes': 1250, 'percent': 5.36}\n",
      "\n",
      "{'_id': '', 'name': 'Hot and Sour Soup', 'votes': 87, 'totalvotes': 1250, 'percent': 6.959999999999999}\n",
      "\n",
      "{'_id': '', 'name': 'Shrimp Chow Fun', 'votes': 78, 'totalvotes': 1250, 'percent': 6.239999999999999}\n",
      "\n",
      "{'_id': '', 'name': 'Beef Lo Mein', 'votes': 134, 'totalvotes': 1250, 'percent': 10.72}\n",
      "\n",
      "{'_id': '', 'name': \"General Tso's Chicken\", 'votes': 201, 'totalvotes': 1250, 'percent': 16.08}\n",
      "\n",
      "{'_id': '', 'name': 'Szechuan Beef', 'votes': 56, 'totalvotes': 1250, 'percent': 4.4799999999999995}\n",
      "\n",
      "{'_id': '', 'name': 'Sweet and Sour Pork', 'votes': 89, 'totalvotes': 1250, 'percent': 7.12}\n",
      "\n",
      "{'_id': '', 'name': 'Wontons', 'votes': 67, 'totalvotes': 1250, 'percent': 5.36}\n",
      "\n",
      "{'_id': '', 'name': 'Ma Po Tofu', 'votes': 101, 'totalvotes': 1250, 'percent': 8.08}\n",
      "\n",
      "{'_id': '', 'name': 'Canadian Butter Tarts', 'votes': 115, 'totalvotes': 1250, 'percent': 9.2}\n",
      "\n",
      "{'_id': '', 'name': 'Kidney Bean Curry', 'votes': 33, 'totalvotes': 1250, 'percent': 2.64}\n",
      "\n",
      "{'_id': '', 'name': 'Coq au vin', 'votes': 9, 'totalvotes': 1250, 'percent': 0.72}\n",
      "\n",
      "{'_id': '', 'name': 'Tandoori chicken', 'votes': 0, 'totalvotes': 1250, 'percent': 0.0}\n",
      "\n"
     ]
    },
    {
     "data": {
      "text/plain": [
       "<pymongo.command_cursor.CommandCursor at 0x89b73b0>"
      ]
     },
     "execution_count": 126,
     "metadata": {},
     "output_type": "execute_result"
    }
   ],
   "source": [
    "import os\n",
    "from flask import Flask, render_template, request, flash, redirect, url_for, session, json, jsonify\n",
    "from flask_pymongo import PyMongo\n",
    "from bson.objectid import ObjectId\n",
    "\n",
    "DBS_NAME = os.getenv(\"DBS_NAME\")\n",
    "MONGO_URI = os.getenv(\"MONGODB_URI\")\n",
    "\n",
    "app = Flask(__name__)\n",
    "app.secret_key = 'The cat is on the roof'\n",
    "\n",
    "app.config[\"DBS_NAME\"] = \"cookbook\"\n",
    "app.config[\"MONGO_URI\"] = \"mongodb://localhost:27017/cookbook\"\n",
    "\n",
    "mongo = PyMongo(app)\n",
    "\n",
    "\n",
    "def get_total_of_votes():\n",
    "    percent_of_votes = mongo.db.recipes.aggregate(\n",
    "        [ \n",
    "            {\n",
    "                '$group': \n",
    "                { \n",
    "                    '_id': '',\n",
    "                    'totalvotes': {'$sum': '$votes'},\n",
    "                    'recipes':{'$push':{'name':'$name', 'votes':'$votes'}}\n",
    "                }\n",
    "            },# end here for a list of recipes and their votes ok!\n",
    "            {                \n",
    "                '$unwind': \n",
    "                {\n",
    "                    'path' : '$recipes',\n",
    "                }\n",
    "            },\n",
    "            {\n",
    "                '$project': \n",
    "                {'name':'$recipes.name',\n",
    "                      'votes':'$recipes.votes',\n",
    "                      'totalvotes':'$totalvotes',\n",
    "                      'percent': {'$multiply':[{'$divide':['$recipes.votes','$totalvotes']},100]}\n",
    "\n",
    "                \n",
    "                \n",
    "                }\n",
    "            }            \n",
    "        ]\n",
    "    )           \n",
    "    for v in percent_of_votes:\n",
    "        print(v)\n",
    "        print(\"\")\n",
    "    return percent_of_votes \n",
    "\n",
    "\n",
    "\n",
    "\n",
    "get_total_of_votes()"
   ]
  },
  {
   "cell_type": "code",
   "execution_count": null,
   "metadata": {},
   "outputs": [],
   "source": []
  },
  {
   "cell_type": "code",
   "execution_count": null,
   "metadata": {},
   "outputs": [],
   "source": []
  },
  {
   "cell_type": "code",
   "execution_count": null,
   "metadata": {},
   "outputs": [],
   "source": []
  }
 ],
 "metadata": {
  "kernelspec": {
   "display_name": "Python 3",
   "language": "python",
   "name": "python3"
  },
  "language_info": {
   "codemirror_mode": {
    "name": "ipython",
    "version": 3
   },
   "file_extension": ".py",
   "mimetype": "text/x-python",
   "name": "python",
   "nbconvert_exporter": "python",
   "pygments_lexer": "ipython3",
   "version": "3.7.0"
  }
 },
 "nbformat": 4,
 "nbformat_minor": 2
}
