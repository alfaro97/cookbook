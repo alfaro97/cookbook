{
 "cells": [
  {
   "cell_type": "code",
   "execution_count": 27,
   "metadata": {
    "scrolled": false
   },
   "outputs": [
    {
     "name": "stdout",
     "output_type": "stream",
     "text": [
      "recipes by category exist\n",
      "Macaroni cheese with leeks\n",
      "This easy four-step recipe for macaroni cheese will please all the family. Get a little extra vegetables into your mac and cheese with sweet leeks tucked in the cheese sauce and peas alongside.\n"
     ]
    },
    {
     "data": {
      "text/plain": [
       "<pymongo.cursor.Cursor at 0x6f18950>"
      ]
     },
     "execution_count": 27,
     "metadata": {},
     "output_type": "execute_result"
    }
   ],
   "source": [
    "import os\n",
    "from flask import Flask, jsonify, json\n",
    "from flask_pymongo import PyMongo\n",
    "\n",
    "DBS_NAME = os.getenv(\"DBS_NAME\")\n",
    "MONGO_URI = os.getenv(\"MONGODB_URI\")\n",
    "\n",
    "app = Flask(__name__)\n",
    "app.secret_key = 'The cat is on the roof'\n",
    "\n",
    "app.config[\"DBS_NAME\"] = \"cookbook\"\n",
    "app.config[\"MONGO_URI\"] = \"mongodb://localhost:27017/cookbook\"\n",
    "\n",
    "mongo = PyMongo(app)\n",
    "\n",
    "# def filter_by_category(category):\n",
    "#     category_name = str(category)\n",
    "#     filteredRecipes = None  \n",
    "#     try:\n",
    "#         filteredRecipes = mongo.db.recipes.find({\"category\": category_name})\n",
    "#     except Exception as e:\n",
    "#         print(\"error accessing DB to find category %s\" % str(e))\n",
    "\n",
    "#     if filteredRecipes:\n",
    "#         print(\"recipes by category exist\")\n",
    "#         for r in filteredRecipes:\n",
    "#             print(r['name'])\n",
    "#             print(r['description'])\n",
    "#     else:\n",
    "#         print(\"no recipes found\")\n",
    "        \n",
    "#     return filteredRecipes\n",
    "\n",
    "def filter_by_category(category):\n",
    "    filteredRecipes = None\n",
    "    category_name = category\n",
    "    try:\n",
    "        filteredRecipes = mongo.db.recipes.find({\"category\": category_name})\n",
    "    except Exception as e:\n",
    "        print(\"error accessing DB to find category %s\" % str(e))\n",
    "\n",
    "    if filteredRecipes:\n",
    "        print(\"recipes by category exist\")\n",
    "        for r in filteredRecipes:\n",
    "            print(r['name'])\n",
    "            print(r['description'])\n",
    "    else:\n",
    "        print(\"no recipes found\")\n",
    "    return filteredRecipes\n",
    "\n",
    "filter_by_category('Pasta')"
   ]
  },
  {
   "cell_type": "code",
   "execution_count": null,
   "metadata": {},
   "outputs": [],
   "source": []
  },
  {
   "cell_type": "code",
   "execution_count": null,
   "metadata": {},
   "outputs": [],
   "source": []
  }
 ],
 "metadata": {
  "kernelspec": {
   "display_name": "Python 3",
   "language": "python",
   "name": "python3"
  },
  "language_info": {
   "codemirror_mode": {
    "name": "ipython",
    "version": 3
   },
   "file_extension": ".py",
   "mimetype": "text/x-python",
   "name": "python",
   "nbconvert_exporter": "python",
   "pygments_lexer": "ipython3",
   "version": "3.7.0"
  }
 },
 "nbformat": 4,
 "nbformat_minor": 2
}
