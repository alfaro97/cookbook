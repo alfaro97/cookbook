{
 "cells": [
  {
   "cell_type": "code",
   "execution_count": null,
   "metadata": {},
   "outputs": [],
   "source": []
  },
  {
   "cell_type": "code",
   "execution_count": 116,
   "metadata": {},
   "outputs": [
    {
     "name": "stdout",
     "output_type": "stream",
     "text": [
      "gluten\n",
      "eggs\n",
      "None\n",
      "fish\n",
      "None\n",
      "peanuts\n",
      "None\n",
      "soybeans\n",
      "milk\n",
      "None\n",
      "tree nuts\n",
      "celery\n",
      "mustard\n",
      "sulphites\n",
      "lupin\n",
      "molluscs\n",
      "crustaceans\n",
      "sesame seeds\n",
      "checked\n",
      "checked\n",
      "checked\n",
      "checked\n"
     ]
    }
   ],
   "source": [
    "import os\n",
    "from flask import Flask\n",
    "from flask_pymongo import PyMongo\n",
    "from bson.objectid import ObjectId\n",
    "\n",
    "DBS_NAME = os.getenv(\"DBS_NAME\")\n",
    "MONGO_URI = os.getenv(\"MONGODB_URI\")\n",
    "\n",
    "app = Flask(__name__)\n",
    "app.secret_key = 'The cat is on the roof'\n",
    "\n",
    "app.config[\"DBS_NAME\"] = \"cookbook\"\n",
    "app.config[\"MONGO_URI\"] = \"mongodb://localhost:27017/cookbook\"\n",
    "\n",
    "mongo = PyMongo(app)\n",
    "\n",
    "# GET ALLERGENS\n",
    "def get_allergens():\n",
    "    allergens=mongo.db.allergens.find()\n",
    "    return allergens\n",
    "\n",
    "def get_recipe():\n",
    "    the_recipe = mongo.db.recipes.find_one({\"_id\": ObjectId(\"5b9fbe55fb6fc072da02e2f6\")})\n",
    "    return the_recipe\n",
    "    \n",
    "def print_out():\n",
    "    recipe = get_recipe()\n",
    "    #print(recipe['allergens'])\n",
    "    allergens_list_of_dict = list(get_allergens())\n",
    "    allergens_list = [allergen_item[\"allergen_name\"] for allergen_item in allergens_list_of_dict]\n",
    "    for allergen in allergens_list:\n",
    "        print(allergen)\n",
    "        if allergen in recipe['allergens']:\n",
    "            print(allergens_list.append(\"checked\"))\n",
    "                                    \n",
    "\n",
    "print_out()\n",
    "    \n",
    "    "
   ]
  },
  {
   "cell_type": "code",
   "execution_count": null,
   "metadata": {},
   "outputs": [],
   "source": []
  },
  {
   "cell_type": "code",
   "execution_count": null,
   "metadata": {},
   "outputs": [],
   "source": []
  }
 ],
 "metadata": {
  "kernelspec": {
   "display_name": "Python 3",
   "language": "python",
   "name": "python3"
  },
  "language_info": {
   "codemirror_mode": {
    "name": "ipython",
    "version": 3
   },
   "file_extension": ".py",
   "mimetype": "text/x-python",
   "name": "python",
   "nbconvert_exporter": "python",
   "pygments_lexer": "ipython3",
   "version": "3.7.0"
  }
 },
 "nbformat": 4,
 "nbformat_minor": 2
}
