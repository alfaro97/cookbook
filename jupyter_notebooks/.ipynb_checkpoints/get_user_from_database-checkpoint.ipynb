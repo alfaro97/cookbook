{
 "cells": [
  {
   "cell_type": "code",
   "execution_count": 5,
   "metadata": {},
   "outputs": [
    {
     "name": "stdout",
     "output_type": "stream",
     "text": [
      "id row does exists\n",
      "{'_id': ObjectId('5b99785380ae4c2a3c392e8b'), 'username': 'zed', 'password': '123', 'firstname': 'sonnerz', 'lastname': 'cooley', 'country': 'Ireland'}\n"
     ]
    }
   ],
   "source": [
    "import os\n",
    "from flask import Flask\n",
    "from flask_pymongo import PyMongo\n",
    "from bson.objectid import ObjectId\n",
    "\n",
    "DBS_NAME = os.getenv(\"DBS_NAME\")\n",
    "MONGO_URI = os.getenv(\"MONGODB_URI\")\n",
    "\n",
    "app = Flask(__name__)\n",
    "app.secret_key = 'The cat is on the roof'\n",
    "\n",
    "app.config[\"DBS_NAME\"] = \"cookbook\"\n",
    "app.config[\"MONGO_URI\"] = \"mongodb://localhost:27017/cookbook\"\n",
    "\n",
    "mongo = PyMongo(app)\n",
    "\n",
    "def get_record(username):\n",
    "    row={}\n",
    "    try:\n",
    "        row = mongo.db.users.find_one({'username': username.lower()})\n",
    "    except Exception as e:\n",
    "        print(\"error accessing DB %s\"%str(e))\n",
    "    \n",
    "    if row:\n",
    "        print(\"row exists\")\n",
    "    return row   \n",
    "\n",
    "def get_record_id(_id):\n",
    "    row={}\n",
    "    try:\n",
    "        row = mongo.db.users.find_one({\"_id\": _id})\n",
    "    except Exception as e:\n",
    "        print(\"error accessing DB %s\"%str(e))\n",
    "    \n",
    "    if row:\n",
    "        print(\"id row does exists\")\n",
    "    else:\n",
    "        print(\"no row\")\n",
    "    return row\n",
    "\n",
    "def get_current_user(username):   \n",
    "#     current_user = dict(get_record(username))\n",
    "    current_user = get_record_id(ObjectId('5b99785380ae4c2a3c392e8b'))\n",
    "    print(current_user)   \n",
    "    return\n",
    "    \n",
    "get_current_user('zed')    "
   ]
  },
  {
   "cell_type": "code",
   "execution_count": null,
   "metadata": {},
   "outputs": [],
   "source": []
  }
 ],
 "metadata": {
  "kernelspec": {
   "display_name": "Python 3",
   "language": "python",
   "name": "python3"
  },
  "language_info": {
   "codemirror_mode": {
    "name": "ipython",
    "version": 3
   },
   "file_extension": ".py",
   "mimetype": "text/x-python",
   "name": "python",
   "nbconvert_exporter": "python",
   "pygments_lexer": "ipython3",
   "version": "3.7.0"
  }
 },
 "nbformat": 4,
 "nbformat_minor": 2
}
