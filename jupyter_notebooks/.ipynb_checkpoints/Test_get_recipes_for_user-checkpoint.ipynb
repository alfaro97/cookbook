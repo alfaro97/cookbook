{
 "cells": [
  {
   "cell_type": "code",
   "execution_count": 32,
   "metadata": {},
   "outputs": [
    {
     "name": "stdout",
     "output_type": "stream",
     "text": [
      "rows do exist\n",
      "<class 'pymongo.cursor.Cursor'>\n",
      "{'_id': ObjectId('5b9fbe55fb6fc072da02e2f6'), 'author': '5b99785380ae4c2a3c392e8b', 'name': 'Chicken Chasseur', 'description': 'Chicken chasseur is a classic French recipe made with chicken thighs, white wine, fresh herbs and mushrooms.', 'category': 'chicken', 'cuisine': 'french', 'difficulty': 'easy', 'allergens': ['nuts', 'eggs'], 'serves': 4, 'main_ingredient': 'Chicken', 'prep_time': '20 minutes', 'cook_time': '1 hour', 'ingredients': ['8 skinned and boned chicken thighs', '4 large fresh thyme sprigs, leaves picked', '2 tbsp olive oil', '100g (about 3) shallots, finely chopped', '2 garlic cloves, crushed', '1 tbsp tomato purée', '200ml dry white wine', '200ml chicken stock', '300g small chestnut mushrooms, halved', '2 fresh bay leaves', '200g fresh or canned chopped tomatoes', '2 tbsp fresh flatleaf parsley, chopped'], 'instructions': ['01.Open out the chicken thighs and place skinned-side down on a work surface. Sprinkle with half the thyme and some seasoning, roll back into shape and tie at each end with string.', '02.Heat a deep, non-stick frying pan over a medium-high heat. Add 1 tbsp oil and fry the chicken pieces until golden all over. Set aside.', '03.Add the rest of the oil, shallot and garlic to the pan. Fry for 4-5 minutes until lightly browned. Stir in the purée, cook for 1 minute, add the wine and stock, and bring to the boil. Return the chicken to the pan with the mushrooms, remaining thyme, bay leaves and some seasoning.', '04.Cover and simmer for 10 minutes. Uncover, stir in the tomatoes and simmer for 30-35 minutes. Turn the chicken now and then, cooking until the chicken is tender and the sauce has reduced. Sprinkle with the parsley and serve with mashed potatoes.'], 'calories': '319kcals', 'views': 23, 'votes': 4, 'image_url': 'https://www.bbcgoodfood.com/sites/default/files/styles/recipe/public/recipe_images/recipe-image-legacy-id--337457_12.jpg?itok=BkhdNf4R'}\n",
      "Chicken Chasseur\n",
      "{'_id': ObjectId('5ba2670f80ae4c4a847cacee'), 'author': '5b99785380ae4c2a3c392e8b', 'name': 'Something cheesy', 'description': 'Lorem ipsum dolor sit amet, consectetur adipiscing elit. Curabitur pellentesque metus id condimentum imperdiet. Donec eleifend risus metus, eu aliquam lacus gravida porttitor. Cras ultricies augue a tortor imperdiet vehicula. Donec laoreet dolor ac egestas porttitor.', 'main_ingredient': 'Cheese', 'category': 'stir-fy', 'cuisine': 'brazilian', 'difficulty': 'average', 'prep_time': '20 minutes', 'cook_time': '1 hour', 'serves': '4', 'calories': '350kcal', 'allergens': [], 'ingredients': ['eggs', 'milk', 'flour', 'tea', 'coffee'], 'instructions': ['Nam viverra lacus ac egestas facilisis. Phasellus accumsan urna ligula, a ullamcorper sapien pellentesque vel.'], 'image_url': '', 'views': 0, 'votes': 0}\n",
      "Something cheesy\n",
      "{'_id': ObjectId('5b9fbecafb6fc072da02e382'), 'author': '5b99785380ae4c2a3c392e8b', 'name': 'Chorizo Stuffed Bell Peppers', 'description': \"Bell peppers are stuffed with a spicy blend of chorizo, onions, garlic, fresh herbs, Worcestershire, three kinds of cheese, and rice. If you have a taste for spice, you'll love them. Don't let the number of ingredients scare you!\", 'main_ingredient': 'Peppers', 'category': 'lunch', 'cuisine': 'european', 'difficulty': 'easy', 'prep_time': '40 minutes', 'cook_time': '1 hour', 'serves': '6', 'calories': '319kcals', 'allergens': ['gluten', 'fish', 'celery'], 'ingredients': ['6 bell peppers, tops cut off and seeded', '1 pound chorizo sausage', '1 stalk celery, minced', '1 carrot, minced', '4 cloves garlic, minced', '1/2 cup chopped onion', '1 (14.5 ounce) can whole peeled tomatoes, chopped', '1 tablespoon Worcestershire sauce', 'chopped fresh basil', '200g fresh or canned chopped tomatoes', '2 tbsp fresh flatleaf parsley, chopped', '1/2 cup uncooked long grain rice', '1/2 cup water', '1/3 cup shredded Monterey Jack cheese', '1/3 cup shredded Cheddar cheese', '1/3 cup shredded Mozzarella Cheese', '1 (10.75 ounce) can tomato soup', 'chocolate'], 'instructions': ['Bring a large pot of water to boil. Place peppers in boiling water, and cook 5 minutes. Remove, and set aside to cool.', 'Preheat oven to 350 degrees F (175 degrees C).', 'In a large skillet, cook chorizo until almost brown. Drain fat. Stir in celery, carrots, onions, and garlic. Cook until soft, about 5 minutes. Season with salt and pepper. Stir in tomatoes, Worcestershire sauce, parsley, basil, rice, and water. Cover, and simmer until rice is cooked, about 15 minutes. Remove from heat, and mix in Monterey Jack, Cheddar, and Mozzarella cheeses.', 'Place peppers upright on a baking sheet. Stuff each pepper with the chorizo mixture. Sprinkle extra cheese on top.', 'In a small bowl, combine tomato soup with just enough water to give the soup the consistency of gravy. Pour generously over peppers. Cover with foil.', 'Bake in preheated oven about 30 minutes.'], 'image_url': '', 'views': '42', 'votes': '3'}\n",
      "Chorizo Stuffed Bell Peppers\n",
      "{'_id': ObjectId('5ba2653e80ae4c4a847caced'), 'author': '5b99785380ae4c2a3c392e8b', 'name': 'Macaroni cheese with leeks', 'description': 'This easy four-step recipe for macaroni cheese will please all the family. Get a little extra vegetables into your mac and cheese with sweet leeks tucked in the cheese sauce and peas alongside.', 'main_ingredient': 'Macaroni', 'category': 'pasta', 'cuisine': 'italian', 'difficulty': 'easy', 'prep_time': 'less than 30 mins', 'cook_time': '30 mins to 1 hour', 'serves': '4', 'calories': '350kcal', 'allergens': ['gluten', 'eggs', 'milk', 'sulphites'], 'ingredients': ['300g/10½oz dried macaroni', '2 leeks', '45g/1½oz butter', '45g/1½oz flour', '600ml/1 pint milk', '1 tsp mustard', 'dash Worcestershire sauce', '200g/7oz cheddar, grated', '60g/2¼oz breadcrumbs', '250g/9oz frozen peas, to serve', 'salt and freshly ground black pepper'], 'instructions': ['1. Preheat the oven to 200C/180C Fan/Gas 6. Bring a large pan of salted water to the boil and add the macaroni. Cook for 5 minutes then drain.', '2. Meanwhile trim the leeks, discarding the green parts, then thinly slice. Melt the butter in a large saucepan, add the leeks and cook gently for 5 minutes, or until soft. Add the flour and cook for 2 minutes, stirring constantly. Add the milk little by little, stirring constantly, then cook gently for 5 minutes, stirring all the time until the sauce is thickened. Add the mustard and Worcestershire sauce then remove from the heat. Stir in the grated cheese and season with salt and pepper.', '3. Add the pasta to the sauce, stir to combine then pour into a 2 litre/3½ pint ovenproof dish. Sprinkle over the breadcrumbs and bake for 25 minutes until golden-brown.', '4. Towards the end of cooking, bring a pot of water to the boil. Add the peas, cook for 3-4 minutes then drain. Serve the macaroni cheese with the peas.'], 'image_url': 'https://ichef.bbci.co.uk/food/ic/food_16x9_448/recipes/toad_in_the_hole_with_86283_16x9.jpg', 'views': '0', 'votes': '0'}\n",
      "Macaroni cheese with leeks\n"
     ]
    }
   ],
   "source": [
    "import os\n",
    "from flask import Flask, render_template, request, flash, redirect, url_for, session, json, jsonify\n",
    "from flask_pymongo import PyMongo\n",
    "from bson.objectid import ObjectId\n",
    "\n",
    "DBS_NAME = os.getenv(\"DBS_NAME\")\n",
    "MONGO_URI = os.getenv(\"MONGODB_URI\")\n",
    "\n",
    "app = Flask(__name__)\n",
    "app.secret_key = 'The cat is on the roof'\n",
    "\n",
    "app.config[\"DBS_NAME\"] = \"cookbook\"\n",
    "app.config[\"MONGO_URI\"] = \"mongodb://localhost:27017/cookbook\"\n",
    "\n",
    "\n",
    "mongo = PyMongo(app)\n",
    "\n",
    "def get_recipes(current_user_id):\n",
    "    rows={}\n",
    "    try:\n",
    "        rows = mongo.db.recipes.find({\"author\" : current_user_id}) \n",
    "#         rows = mongo.db.recipes.find_one({\"name\" : \"Chicken chasseur\"})\n",
    "    except Exception as e:\n",
    "        print(\"error accessing DB %s\"%str(e))\n",
    "    \n",
    "    if rows:\n",
    "        print(\"rows do exist\")\n",
    "    return rows\n",
    "\n",
    "\n",
    "def get_current_user_recipes(): \n",
    "    current_user_recipes = get_recipes(\"5b99785380ae4c2a3c392e8b\")\n",
    "    print(type(current_user_recipes))\n",
    "    for row in current_user_recipes:\n",
    "        print(row)\n",
    "        print(row['name'])\n",
    "    return\n",
    "\n",
    "def get_recent():\n",
    "    rows = {}\n",
    "    try:\n",
    "        # Query recipes collection and return ordered by votes descending\n",
    "        rows = mongo.db.recipes.find([{_id:1},{'$sort':{'votes': -1}}]).limit(3)\n",
    "    except Exception as e:\n",
    "        print(\"error accessing DB %s\" % str(e))\n",
    "\n",
    "    if rows:\n",
    "        for r in rows:\n",
    "            print(r['name'])\n",
    "        print(\"latest 3 recipes found\")\n",
    "    return rows \n",
    "\n",
    "# get_current_user_recipes()\n",
    "get_recent()"
   ]
  },
  {
   "cell_type": "code",
   "execution_count": null,
   "metadata": {},
   "outputs": [],
   "source": []
  },
  {
   "cell_type": "code",
   "execution_count": null,
   "metadata": {},
   "outputs": [],
   "source": []
  }
 ],
 "metadata": {
  "kernelspec": {
   "display_name": "Python 3",
   "language": "python",
   "name": "python3"
  },
  "language_info": {
   "codemirror_mode": {
    "name": "ipython",
    "version": 3
   },
   "file_extension": ".py",
   "mimetype": "text/x-python",
   "name": "python",
   "nbconvert_exporter": "python",
   "pygments_lexer": "ipython3",
   "version": "3.7.0"
  }
 },
 "nbformat": 4,
 "nbformat_minor": 2
}
